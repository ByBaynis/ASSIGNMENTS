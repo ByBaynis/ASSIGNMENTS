{
  "nbformat": 4,
  "nbformat_minor": 0,
  "metadata": {
    "colab": {
      "provenance": []
    },
    "kernelspec": {
      "name": "python3",
      "display_name": "Python 3"
    },
    "language_info": {
      "name": "python"
    }
  },
  "cells": [
    {
      "cell_type": "code",
      "execution_count": 2,
      "metadata": {
        "colab": {
          "base_uri": "https://localhost:8080/"
        },
        "id": "k5tCA09IZj5w",
        "outputId": "5a72b4f2-5da7-43b2-992d-fc34817e377a"
      },
      "outputs": [
        {
          "output_type": "stream",
          "name": "stdout",
          "text": [
            "[1, 1, 2, 3, 5, 8, 13, 21, 34, 55]\n"
          ]
        }
      ],
      "source": [
        "def fib(n:int): \n",
        "    a,b = 1,1\n",
        "    fib_list = [a,b]\n",
        "    for f in range(1,n+1):\n",
        "        a,b = b, a+b\n",
        "        fib_list.append(b)\n",
        "    return fib_list\n",
        "print(fib(8))"
      ]
    }
  ]
}