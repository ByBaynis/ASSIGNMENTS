{
  "nbformat": 4,
  "nbformat_minor": 0,
  "metadata": {
    "colab": {
      "provenance": []
    },
    "kernelspec": {
      "name": "python3",
      "display_name": "Python 3"
    },
    "language_info": {
      "name": "python"
    }
  },
  "cells": [
    {
      "cell_type": "code",
      "execution_count": null,
      "metadata": {
        "id": "nkKLRipUpIbB"
      },
      "outputs": [],
      "source": [
        "sayaç = 0\n",
        "sayı = int(input('Lütfen Bir Sayı Giriniz: '))\n",
        "for k in range(2,sayı):\n",
        "      if sayı%k == 0:\n",
        "            sayaç = sayaç+1\n",
        "            break\n",
        "if sayaç == 0:\n",
        "      print(\"bir asal sayıdır.\")\n",
        "else:\n",
        "      print(\"bir asal sayı değildir.\")"
      ]
    }
  ]
}