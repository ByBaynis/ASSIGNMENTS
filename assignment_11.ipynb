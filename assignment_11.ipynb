{
  "nbformat": 4,
  "nbformat_minor": 0,
  "metadata": {
    "colab": {
      "provenance": [],
      "collapsed_sections": []
    },
    "kernelspec": {
      "name": "python3",
      "display_name": "Python 3"
    },
    "language_info": {
      "name": "python"
    }
  },
  "cells": [
    {
      "cell_type": "code",
      "source": [
        "year = int(input(\"Enter the year you want to know if it is a leap year according to Gregorian calendar: \"))\n",
        "\n",
        "if year % 4 == 0 and year % 100 != 0:\n",
        "    print(f\"{year} is a leap year.\")\n",
        "elif year % 400 == 0:\n",
        "    print(f\"{year} is a leap year.\")\n",
        "else:\n",
        "    print(f\"{year} is not a leap year.\")"
      ],
      "metadata": {
        "id": "sCdMmCdFP4M9"
      },
      "execution_count": null,
      "outputs": []
    }
  ]
}