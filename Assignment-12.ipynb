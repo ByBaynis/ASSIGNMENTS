{
  "nbformat": 4,
  "nbformat_minor": 0,
  "metadata": {
    "colab": {
      "provenance": []
    },
    "kernelspec": {
      "name": "python3",
      "display_name": "Python 3"
    },
    "language_info": {
      "name": "python"
    }
  },
  "cells": [
    {
      "cell_type": "code",
      "execution_count": null,
      "metadata": {
        "id": "IoCJBthe2uSa"
      },
      "outputs": [],
      "source": [
        "sayı = int(input(\"Bir Sayı Giriniz:\"))\n",
        "basamak = str(sayı)\n",
        "\n",
        "toplam=0\n",
        "\n",
        "for x in basamak:\n",
        "\n",
        "   rakam = int(x)**len(basamak)\n",
        "   toplam += rakam\n",
        "\n",
        "if(sayı == toplam):\n",
        " print(\"Bu Bir Armstrong Sayısıdır.\")\n",
        "else:\n",
        " print(\"Bu Bir Armstong Sayısı Değildir.\")"
      ]
    }
  ]
}