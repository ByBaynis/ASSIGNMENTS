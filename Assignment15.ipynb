{
  "nbformat": 4,
  "nbformat_minor": 0,
  "metadata": {
    "colab": {
      "provenance": []
    },
    "kernelspec": {
      "name": "python3",
      "display_name": "Python 3"
    },
    "language_info": {
      "name": "python"
    }
  },
  "cells": [
    {
      "cell_type": "code",
      "execution_count": 17,
      "metadata": {
        "colab": {
          "base_uri": "https://localhost:8080/"
        },
        "id": "dKUg9dJXS-NU",
        "outputId": "0f70c2e4-545a-4a2f-80a6-b92294e0a44a"
      },
      "outputs": [
        {
          "output_type": "stream",
          "name": "stdout",
          "text": [
            "2\n",
            "3\n",
            "5\n",
            "7\n",
            "11\n",
            "13\n",
            "17\n",
            "19\n",
            "23\n",
            "29\n",
            "31\n",
            "37\n",
            "41\n",
            "43\n",
            "47\n",
            "53\n",
            "59\n",
            "61\n",
            "67\n",
            "71\n",
            "73\n",
            "79\n",
            "83\n",
            "89\n",
            "97\n"
          ]
        }
      ],
      "source": [
        "başlangıç = 1 \n",
        "bitiş = 100 \n",
        "  \n",
        "for sayı in range(başlangıç, bitiş + 1):  \n",
        " if sayı > 1:  \n",
        "   for i in range(2,sayı):  \n",
        "    if (sayı % i) == 0:  \n",
        "     break  \n",
        "   else:  \n",
        "    print(sayı)"
      ]
    }
  ]
}