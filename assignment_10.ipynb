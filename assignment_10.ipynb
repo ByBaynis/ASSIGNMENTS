{
  "nbformat": 4,
  "nbformat_minor": 0,
  "metadata": {
    "colab": {
      "provenance": [],
      "collapsed_sections": []
    },
    "kernelspec": {
      "name": "python3",
      "display_name": "Python 3"
    },
    "language_info": {
      "name": "python"
    }
  },
  "cells": [
    {
      "cell_type": "code",
      "source": [
        "age = input(\"I am older than 75 ; Write it is true or false: \").title()\n",
        "chronic = input(\"I have a severe chronic disease ; Write it is true or false: \").title()\n",
        "immune = input( \"My immune system too weak ; Write it is true or false: \").title()\n",
        "\n",
        "if age == \"False\" and chronic == \"False\" and immune == \"False\":\n",
        "    print(\"You are not in risky group.\")\n",
        "else:\n",
        "    print(\"You are in risky group.\")"
      ],
      "metadata": {
        "id": "8YFhxg8RP4VR"
      },
      "execution_count": null,
      "outputs": []
    },
    {
      "cell_type": "code",
      "source": [],
      "metadata": {
        "id": "tJvfbMEeP4Sn"
      },
      "execution_count": null,
      "outputs": []
    },
    {
      "cell_type": "code",
      "source": [],
      "metadata": {
        "id": "KAYXvhZiP4P2"
      },
      "execution_count": null,
      "outputs": []
    },
    {
      "cell_type": "code",
      "source": [],
      "metadata": {
        "id": "sCdMmCdFP4M9"
      },
      "execution_count": null,
      "outputs": []
    }
  ]
}