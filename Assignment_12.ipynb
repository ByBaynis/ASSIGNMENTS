{
  "nbformat": 4,
  "nbformat_minor": 0,
  "metadata": {
    "colab": {
      "provenance": []
    },
    "kernelspec": {
      "name": "python3",
      "display_name": "Python 3"
    },
    "language_info": {
      "name": "python"
    }
  },
  "cells": [
    {
      "cell_type": "code",
      "execution_count": 6,
      "metadata": {
        "colab": {
          "base_uri": "https://localhost:8080/"
        },
        "id": "IoCJBthe2uSa",
        "outputId": "d47f76e3-240a-4341-f184-b8700e819103"
      },
      "outputs": [
        {
          "output_type": "stream",
          "name": "stdout",
          "text": [
            "Bir Sayı Giriniz:154\n",
            "Bu Bir Armstong Sayısı Değildir.\n"
          ]
        }
      ],
      "source": [
        "sayı = int(input(\"Bir Sayı Giriniz:\"))\n",
        "basamak = str(sayı)\n",
        "\n",
        "toplam=0\n",
        "\n",
        "for x in basamak:\n",
        "\n",
        "   rakam = int(x)**len(basamak)\n",
        "   toplam += rakam\n",
        "\n",
        "if(sayı == toplam):\n",
        " print(\"Bu Bir Armstrong Sayısıdır.\")\n",
        "else:\n",
        " print(\"Bu Bir Armstong Sayısı Değildir.\")"
      ]
    }
  ]
}