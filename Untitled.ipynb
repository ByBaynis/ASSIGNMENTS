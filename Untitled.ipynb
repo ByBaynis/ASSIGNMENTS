{
 "cells": [
  {
   "cell_type": "code",
   "execution_count": null,
   "id": "c38564f4",
   "metadata": {},
   "outputs": [],
   "source": [
    "name = input(\"Enter your name: \").title()\n",
    "if name == \"Barış\":\n",
    "    print(\"Hello, Barış! The password is : wonderful\")\n",
    "else:\n",
    "    print(f\"Hello, {name}!  See you later.\")"
   ]
  }
 ],
 "metadata": {
  "kernelspec": {
   "display_name": "Python 3 (ipykernel)",
   "language": "python",
   "name": "python3"
  },
  "language_info": {
   "codemirror_mode": {
    "name": "ipython",
    "version": 3
   },
   "file_extension": ".py",
   "mimetype": "text/x-python",
   "name": "python",
   "nbconvert_exporter": "python",
   "pygments_lexer": "ipython3",
   "version": "3.9.12"
  }
 },
 "nbformat": 4,
 "nbformat_minor": 5
}
